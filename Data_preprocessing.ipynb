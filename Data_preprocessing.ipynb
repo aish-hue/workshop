{
 "cells": [
  {
   "cell_type": "markdown",
   "metadata": {},
   "source": [
    "# Installing the libraries:\n",
    "\n",
    "* System control: Sys, glob, os, copy\n",
    "* Visualization: [Matplotlib](https://matplotlib.org/), [Seaborn](https://seaborn.pydata.org/)\n",
    "* Computational: [Numpy](https://numpy.org/), [Pandas](https://pandas.pydata.org/)\n",
    "* Imputation: Data Imputation (https://en.wikipedia.org/wiki/Imputation_(statistics)\n",
    "* Machine Learning: Sklearn (also known as Scikit learn)\n",
    "* Deep Learning: [Data wig](https://github.com/awslabs/datawig)"
   ]
  },
  {
   "cell_type": "code",
   "execution_count": null,
   "metadata": {},
   "outputs": [],
   "source": [
    "## System control libraries fill here ##\n",
    "\n",
    "\n",
    "\n",
    "\n",
    "\n",
    "\n",
    "##---------------------------------------##\n",
    "\n",
    "\n",
    "\n",
    "\n",
    "## Visualization libraries fill here ##\n",
    "\n",
    "\n",
    "\n",
    "\n",
    "\n",
    "\n",
    "\n",
    "\n",
    "##---------------------------------------##\n",
    "\n",
    "\n",
    "## Computational libraries fill here ##\n",
    "\n",
    "\n",
    "\n",
    "\n",
    "\n",
    "\n",
    "##---------------------------------------##\n",
    "\n",
    "\n",
    "## Imputation/Exploration libraries fill here ##\n",
    "\n",
    "\n",
    "\n",
    "\n",
    "\n",
    "\n",
    "##---------------------------------------##\n",
    "\n",
    "\n",
    "\n",
    "## Imputation Machine Learning libraries fill here ##\n",
    "\n",
    "\n",
    "\n",
    "\n",
    "\n",
    "##---------------------------------------##\n",
    "\n",
    "\n",
    "## Deep Learning libraries fill here ##\n",
    "\n",
    "\n",
    "\n",
    "##---------------------------------------##\n"
   ]
  },
  {
   "cell_type": "markdown",
   "metadata": {},
   "source": [
    "# What is an Inertial Measurement Unit ?\n",
    "An inertial measurement unit (IMU) is an electronic device that measures and reports a body's specific force, angular rate, and sometimes the orientation of the body, using a combination of accelerometers, gyroscopes, and sometimes magnetometers. \n",
    "<img src=\"imu.png\">\n",
    "\n",
    "In this exercise we would be using the data for 6 sensors, namely:\n",
    "    * Accelorometer (X, Y and Z axis)\n",
    "    * Gyroscope (X, Y and Z axis)\n",
    "    * Magnetometer (X, Y and Z axis)\n",
    "    * Velocitemeter (X, Y and Z axis)\n",
    "    * LoadcellA (X, Y and Z axis)\n",
    "    * Quaternion (4 Rotational planes)  "
   ]
  },
  {
   "cell_type": "markdown",
   "metadata": {},
   "source": [
    "# What data would we work on today ?\n",
    "* We have collected data from 100 particpants with the device in their hands while doing a bicep curl as shown in the firgure below.\n",
    "\n",
    "* Our task is to merge data from 100 files into one DataFrame\n",
    "\n",
    "* Filter column number: *** 0,3,4,5,6,7,8,9,10,11,12,13,14,15,16,17,18,19 ***\n",
    "\n",
    "* Corresponding columns names: 'Time','Accelerometer_X','Accelerometer_Y','Accelerometer_Z','Gyroscope_X',\n",
    "                 'Gyroscope_Y','Gyroscope_Z','Magnetometer_X','Magnetometer_Y','Magnetometer_Z',\n",
    "                'Velocitemeter_X','Velocitemeter_Y','Velocitemeter_Z','LoadcellA','Quaternion_1',\n",
    "                 'Quaternion_2','Quaternion_3','Quaternion_4'\n",
    "                 \n",
    "* File suffix: fitmi_XX.txt\n",
    "* Total number of files in \"data_exploration\" folder: 100\n",
    "* Value separator: TAB\n",
    "<img src=\"bicep_curl.jpeg\">"
   ]
  },
  {
   "cell_type": "code",
   "execution_count": null,
   "metadata": {},
   "outputs": [],
   "source": [
    "\n",
    "## Write your code here##\n",
    "\n",
    "\n",
    "\n",
    "## finish code here ##"
   ]
  },
  {
   "cell_type": "code",
   "execution_count": null,
   "metadata": {},
   "outputs": [],
   "source": [
    "## different ways to extract columns from a DataFrame ## -- can also work for rows as well as columns --\n",
    "\n",
    "## Write your code here##\n",
    "\n",
    "\n",
    "\n",
    "## finish code here ##\n",
    "\n",
    "#ix usually tries to behave like loc but falls back to behaving like iloc if a label is not present in the index\n"
   ]
  },
  {
   "cell_type": "markdown",
   "metadata": {},
   "source": [
    "# Visualizing the data distribution with Histograms and Density plots\n",
    "\n",
    "* Use libraries such as Seaborn: distplot with ***\"hist\"*** and ***\"kde\"*** flag both TRUE"
   ]
  },
  {
   "cell_type": "code",
   "execution_count": null,
   "metadata": {},
   "outputs": [],
   "source": [
    "## Historgram and Density fit of orginial data\n",
    "\n",
    "sns.set()\n",
    "f, axes = plt.subplots(nrows=2, ncols=2, sharey=True)\n",
    "f.set_size_inches(12, 8)\n",
    "\n",
    "\n",
    "\n",
    "## Write your code here for Quaternion 1 visualization##\n",
    "\n",
    "\n",
    "\n",
    "\n",
    "## finish code here ##\n",
    "\n",
    "\n",
    "\n",
    "\n",
    "axes[0,0].set_xlim([-1,1])\n",
    "axes[0,0].set_title('Quaternion_1')\n",
    "\n",
    "\n",
    "\n",
    "## Write your code here for Quaternion 2 visualization##\n",
    "\n",
    "\n",
    "\n",
    "\n",
    "\n",
    "\n",
    "\n",
    "## finish code here ##\n",
    "\n",
    "\n",
    "\n",
    "axes[0,1].set_xlim([-1,1])\n",
    "axes[0,1].set_title('Quaternion_2')\n",
    "\n",
    "\n",
    "\n",
    "## Write your code here for Quaternion 3 visualization##\n",
    "\n",
    "\n",
    "\n",
    "\n",
    "\n",
    "## finish code here ##\n",
    "\n",
    "\n",
    "\n",
    "axes[1,0].set_xlim([-1,1])\n",
    "axes[1,0].set_title('Quaternion_3')\n",
    "\n",
    "\n",
    "## Write your code here for Quaternion 4 visualization##\n",
    "\n",
    "\n",
    "\n",
    "\n",
    "## finish code here ##\n",
    "\n",
    "\n",
    "\n",
    "axes[1,1].set_xlim([-1,1])\n",
    "axes[1,1].set_title('Quaternion_4')\n",
    "\n",
    "\n",
    "\n",
    "plt.ylabel(\"Gaussian Kernel Density Value\")\n",
    "plt.xlabel(\"Quaternion values\")\n",
    "plt.title(\"Histogram and Kernel density estimate\")\n",
    "plt.legend(prop={'size': 16}, title = 'Quaternions')\n",
    "plt.tight_layout()\n",
    "plt.show()"
   ]
  },
  {
   "cell_type": "markdown",
   "metadata": {},
   "source": [
    "# QQ plot to check for Normal distribution\n",
    "* use the function qq plot from stats libraray to check if the columns 'Quaternion1' and 'Quaternion2' fit a Normal Distribution"
   ]
  },
  {
   "cell_type": "code",
   "execution_count": null,
   "metadata": {},
   "outputs": [],
   "source": [
    "sns.set()\n",
    "\n",
    "f, axes = plt.subplots(nrows=1, ncols=2, sharey = True)\n",
    "f.set_size_inches(10, 5)\n",
    "\n",
    "## Write your code here ##\n",
    "\n",
    "\n",
    "\n",
    "\n",
    "## Code finishes ##\n",
    "\n",
    "plt.tight_layout()\n",
    "plt.show()"
   ]
  },
  {
   "cell_type": "code",
   "execution_count": null,
   "metadata": {},
   "outputs": [],
   "source": []
  },
  {
   "cell_type": "code",
   "execution_count": null,
   "metadata": {},
   "outputs": [],
   "source": [
    "## Historgram and Density fit of imputed data ##\n",
    "\n",
    "## Write your code here ##\n",
    "\n",
    "\n",
    "## finish your code here ##\n",
    "\n",
    "\n",
    "plt.ylabel(\"Gaussian Kernel Density Value\")\n",
    "plt.xlabel(\"Quaternion values\")\n",
    "plt.title(\"Histogram and Kernel density estimate\")\n",
    "plt.legend(['Quaternion_2'],prop={'size': 16}, title = 'Quaternions')\n",
    "plt.xlim(-1,1)\n",
    "plt.tight_layout()\n",
    "plt.show()\n"
   ]
  },
  {
   "cell_type": "markdown",
   "metadata": {},
   "source": [
    "# Data Imputation\n",
    "* Use Mean imputation\n",
    "* Use Median imputation\n",
    "* Use Most-Frequent imputation\n",
    "* Use K-Nearest Neighbour imputation\n",
    "* Use Logistic Regression imputation\n",
    "* Use Deep Learning imputation\n",
    "\n",
    "Compare the results for all the imputation with the original distribution and also campare the variability with Box Plots."
   ]
  },
  {
   "cell_type": "code",
   "execution_count": null,
   "metadata": {},
   "outputs": [],
   "source": [
    "## mean imputation ## (Measure of Central tendency)"
   ]
  },
  {
   "cell_type": "code",
   "execution_count": null,
   "metadata": {},
   "outputs": [],
   "source": [
    "## Historgram and Density fit of imputed data ##\n",
    "\n",
    "## Write your code here ##\n",
    "\n",
    "\n",
    "\n",
    "## finish your code here ##\n",
    "\n",
    "plt.xlim(-1,1) ## Because density plots have tendency to extrapolate -- Disdvantage\n",
    "plt.ylabel(\"Gaussian Kernel Density Value\"), plt.xlabel(\"Quaternion values\")\n",
    "plt.title(\"Histogram and Kernel density estimate\"), plt.legend(['Original data','Imputed Data'], prop={'size': 16}, title = 'Quaternions_2')\n",
    "plt.tight_layout(), plt.show()"
   ]
  },
  {
   "cell_type": "code",
   "execution_count": null,
   "metadata": {},
   "outputs": [],
   "source": [
    "f, axes = plt.subplots(nrows=1, ncols=2, sharey = True) ## boxplots showcase the variance in the data ##\n",
    "f.set_size_inches(15, 4)\n",
    "\n",
    "sns.boxplot(x=impute_mean, ax=axes[0])\n",
    "sns.boxplot(x=data_subset['Quaternion_2'], ax=axes[1])"
   ]
  },
  {
   "cell_type": "code",
   "execution_count": null,
   "metadata": {},
   "outputs": [],
   "source": [
    "## median imputation ## (Measure of Central tendency)"
   ]
  },
  {
   "cell_type": "code",
   "execution_count": null,
   "metadata": {},
   "outputs": [],
   "source": [
    "## Historgram and Density fit of imputed data ##\n",
    "\n",
    "## Write your code here ##\n",
    "\n",
    "\n",
    "\n",
    "\n",
    "## finish your code here ##\n",
    "\n",
    "plt.xlim(-1,1) ## Because density plots have tendency to extrapolate -- Disdvantage\n",
    "plt.ylabel(\"Gaussian Kernel Density Value\"), plt.xlabel(\"Quaternion values\")\n",
    "plt.title(\"Histogram and Kernel density estimate\"), plt.legend(['Original data','Imputed Data'], prop={'size': 16}, title = 'Quaternions_2')\n",
    "plt.tight_layout(), plt.show()\n",
    "\n"
   ]
  },
  {
   "cell_type": "code",
   "execution_count": null,
   "metadata": {},
   "outputs": [],
   "source": [
    "f, axes = plt.subplots(nrows=1, ncols=2, sharey = True) ## boxplots showcase the variance in the data ##\n",
    "f.set_size_inches(15, 4)\n",
    "\n",
    "sns.boxplot(x=impute_median, ax=axes[0])\n",
    "sns.boxplot(x=data_subset['Quaternion_2'], ax=axes[1])"
   ]
  },
  {
   "cell_type": "code",
   "execution_count": null,
   "metadata": {},
   "outputs": [],
   "source": [
    "## most_frequent ##"
   ]
  },
  {
   "cell_type": "code",
   "execution_count": null,
   "metadata": {},
   "outputs": [],
   "source": [
    "## Historgram and Density fit of imputed data ##\n",
    "\n",
    "## Write your code here ##\n",
    "\n",
    "\n",
    "\n",
    "\n",
    "## finish your code here ##\n",
    "\n",
    "plt.xlim(-1,1) ## Because density plots have tendency to extrapolate -- Disdvantage\n",
    "plt.ylabel(\"Gaussian Kernel Density Value\"), plt.xlabel(\"Quaternion values\")\n",
    "plt.title(\"Histogram and Kernel density estimate\"), plt.legend(['Original data','Imputed Data'], prop={'size': 16}, title = 'Quaternions_2')\n",
    "plt.tight_layout(), plt.show()\n",
    "\n"
   ]
  },
  {
   "cell_type": "code",
   "execution_count": null,
   "metadata": {},
   "outputs": [],
   "source": [
    "f, axes = plt.subplots(nrows=1, ncols=2, sharey = True) ## boxplots showcase the variance in the data ##\n",
    "f.set_size_inches(15, 4)\n",
    "\n",
    "sns.boxplot(x=impute_freq, ax=axes[0])\n",
    "sns.boxplot(x=data_subset['Quaternion_2'], ax=axes[1])"
   ]
  },
  {
   "cell_type": "code",
   "execution_count": null,
   "metadata": {},
   "outputs": [],
   "source": [
    "# K-NN ##\n"
   ]
  },
  {
   "cell_type": "code",
   "execution_count": null,
   "metadata": {},
   "outputs": [],
   "source": [
    "## Historgram and Density fit of imputed data ##\n",
    "\n",
    "## Write your code here ##\n",
    "\n",
    "\n",
    "\n",
    "## finish your code here ##\n",
    "\n",
    "plt.xlim(-1,1) ## Because density plots have tendency to extrapolate -- Disdvantage\n",
    "plt.ylabel(\"Gaussian Kernel Density Value\"), plt.xlabel(\"Quaternion values\")\n",
    "plt.title(\"Histogram and Kernel density estimate\"), plt.legend(['Original data','Imputed Data'], prop={'size': 16}, title = 'Quaternions_2')\n",
    "plt.tight_layout(), plt.show()\n",
    "\n"
   ]
  },
  {
   "cell_type": "code",
   "execution_count": null,
   "metadata": {},
   "outputs": [],
   "source": [
    "f, axes = plt.subplots(nrows=1, ncols=2, sharey = True) ## boxplots showcase the variance in the data ##\n",
    "f.set_size_inches(15, 4)\n",
    "\n",
    "sns.boxplot(x=impute_knn, ax=axes[0])\n",
    "sns.boxplot(x=data_subset['Quaternion_2'], ax=axes[1])"
   ]
  },
  {
   "cell_type": "code",
   "execution_count": null,
   "metadata": {},
   "outputs": [],
   "source": [
    "## Mice ##\n"
   ]
  },
  {
   "cell_type": "code",
   "execution_count": null,
   "metadata": {},
   "outputs": [],
   "source": [
    "## Data preparation ##"
   ]
  },
  {
   "cell_type": "code",
   "execution_count": null,
   "metadata": {},
   "outputs": [],
   "source": [
    "#Create a Linear Regression model to estimate the missing data"
   ]
  },
  {
   "cell_type": "code",
   "execution_count": null,
   "metadata": {},
   "outputs": [],
   "source": [
    "## Historgram and Density fit of imputed data ##\n",
    "\n",
    "## Write your code here ##\n",
    "\n",
    "\n",
    "\n",
    "## finish your code here ##\n",
    "\n",
    "plt.xlim(-1,1) ## Because density plots have tendency to extrapolate -- Disdvantage\n",
    "plt.ylabel(\"Gaussian Kernel Density Value\"), plt.xlabel(\"Quaternion values\")\n",
    "plt.title(\"Histogram and Kernel density estimate\"), plt.legend(['Original data','Imputed Data'], prop={'size': 16}, title = 'Quaternions_2')\n",
    "plt.tight_layout(), plt.show()\n"
   ]
  },
  {
   "cell_type": "code",
   "execution_count": null,
   "metadata": {},
   "outputs": [],
   "source": [
    "f, axes = plt.subplots(nrows=1, ncols=2, sharey = True) ## boxplots showcase the variance in the data ##\n",
    "f.set_size_inches(15, 4)\n",
    "\n",
    "sns.boxplot(x=df_final, ax=axes[0])\n",
    "sns.boxplot(x=data_subset['Quaternion_2'], ax=axes[1])"
   ]
  },
  {
   "cell_type": "code",
   "execution_count": null,
   "metadata": {},
   "outputs": [],
   "source": [
    "\n",
    "## Deep Learning ##"
   ]
  },
  {
   "cell_type": "code",
   "execution_count": null,
   "metadata": {},
   "outputs": [],
   "source": [
    "## Historgram and Density fit of imputed data ##\n",
    "\n",
    "## Write your code here ##\n",
    "\n",
    "\n",
    "## finish your code here ##\n",
    "\n",
    "plt.xlim(-1,1) ## Because density plots have tendency to extrapolate -- Disdvantage\n",
    "plt.ylabel(\"Gaussian Kernel Density Value\"), plt.xlabel(\"Quaternion values\")\n",
    "plt.title(\"Histogram and Kernel density estimate\"), plt.legend(['Original data','Imputed Data'], prop={'size': 16}, title = 'Quaternions_2')\n",
    "plt.tight_layout(), plt.show()\n",
    "\n"
   ]
  },
  {
   "cell_type": "code",
   "execution_count": null,
   "metadata": {},
   "outputs": [],
   "source": [
    "f, axes = plt.subplots(nrows=1, ncols=2, sharey = True) ## boxplots showcase the variance in the data ##\n",
    "f.set_size_inches(15, 4)\n",
    "\n",
    "sns.boxplot(x=df_final['Quaternion_2'], ax=axes[0])\n",
    "sns.boxplot(x=data_subset['Quaternion_2'], ax=axes[1])"
   ]
  }
 ],
 "metadata": {
  "kernelspec": {
   "display_name": "Python 3",
   "language": "python",
   "name": "python3"
  },
  "language_info": {
   "codemirror_mode": {
    "name": "ipython",
    "version": 3
   },
   "file_extension": ".py",
   "mimetype": "text/x-python",
   "name": "python",
   "nbconvert_exporter": "python",
   "pygments_lexer": "ipython3",
   "version": "3.7.1"
  }
 },
 "nbformat": 4,
 "nbformat_minor": 2
}
